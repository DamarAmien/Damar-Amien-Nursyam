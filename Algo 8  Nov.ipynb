{
 "cells": [
  {
   "cell_type": "code",
   "execution_count": null,
   "id": "06e57337-d1d5-4192-b4d0-19a1703c29f4",
   "metadata": {},
   "outputs": [
    {
     "name": "stdin",
     "output_type": "stream",
     "text": [
      "Masukkan angka):  2.1\n"
     ]
    },
    {
     "name": "stdout",
     "output_type": "stream",
     "text": [
      "Adalah bilangan prima\n"
     ]
    },
    {
     "name": "stdin",
     "output_type": "stream",
     "text": [
      "Masukkan angka):  1\n"
     ]
    },
    {
     "name": "stdout",
     "output_type": "stream",
     "text": [
      "Bukan bilangan prima\n"
     ]
    },
    {
     "name": "stdin",
     "output_type": "stream",
     "text": [
      "Masukkan angka):  11\n"
     ]
    },
    {
     "name": "stdout",
     "output_type": "stream",
     "text": [
      "Adalah bilangan prima\n"
     ]
    },
    {
     "name": "stdin",
     "output_type": "stream",
     "text": [
      "Masukkan angka):  4\n"
     ]
    },
    {
     "name": "stdout",
     "output_type": "stream",
     "text": [
      "Bukan bilangan prima\n"
     ]
    }
   ],
   "source": [
    "def cek_bilangan_prima(angka):\n",
    "    if angka <= 1:\n",
    "        return False\n",
    "    for i in range(2, int(angka)):\n",
    "        if angka % i == 0:\n",
    "            return False\n",
    "    return True\n",
    "\n",
    "while True:\n",
    "    angka = float(input(\"Masukkan angka): \"))\n",
    "    if angka == 'Enter':\n",
    "        break\n",
    "\n",
    "    if cek_bilangan_prima(int(angka)):\n",
    "        print(\"Adalah bilangan prima\")\n",
    "    else:\n",
    "        print(\"Bukan bilangan prima\")\n",
    "\n"
   ]
  },
  {
   "cell_type": "code",
   "execution_count": 7,
   "id": "d4793268-57ae-4041-999b-52e5a091389e",
   "metadata": {},
   "outputs": [
    {
     "name": "stdin",
     "output_type": "stream",
     "text": [
      "Masukkan angka (0 untuk keluar):  1\n"
     ]
    },
    {
     "name": "stdout",
     "output_type": "stream",
     "text": [
      "Angka: 1\n",
      "1st\n"
     ]
    },
    {
     "name": "stdin",
     "output_type": "stream",
     "text": [
      "Masukkan angka (0 untuk keluar):  2\n"
     ]
    },
    {
     "name": "stdout",
     "output_type": "stream",
     "text": [
      "Angka: 2\n",
      "2nd\n"
     ]
    },
    {
     "name": "stdin",
     "output_type": "stream",
     "text": [
      "Masukkan angka (0 untuk keluar):  3\n"
     ]
    },
    {
     "name": "stdout",
     "output_type": "stream",
     "text": [
      "Angka: 3\n",
      "3rd\n"
     ]
    },
    {
     "name": "stdin",
     "output_type": "stream",
     "text": [
      "Masukkan angka (0 untuk keluar):  4\n"
     ]
    },
    {
     "name": "stdout",
     "output_type": "stream",
     "text": [
      "Angka: 4\n",
      "4th\n"
     ]
    },
    {
     "name": "stdin",
     "output_type": "stream",
     "text": [
      "Masukkan angka (0 untuk keluar):  23\n"
     ]
    },
    {
     "name": "stdout",
     "output_type": "stream",
     "text": [
      "Angka: 23\n",
      "23rd\n"
     ]
    },
    {
     "name": "stdin",
     "output_type": "stream",
     "text": [
      "Masukkan angka (0 untuk keluar):  21\n"
     ]
    },
    {
     "name": "stdout",
     "output_type": "stream",
     "text": [
      "Angka: 21\n",
      "21st\n"
     ]
    },
    {
     "name": "stdin",
     "output_type": "stream",
     "text": [
      "Masukkan angka (0 untuk keluar):  0\n"
     ]
    },
    {
     "name": "stdout",
     "output_type": "stream",
     "text": [
      "byee...\n"
     ]
    }
   ],
   "source": [
    "def convert_to_ordinal(number):\n",
    "    if 11 <= number <= 13:\n",
    "        return f\"{number}th\"\n",
    "    \n",
    "    last_digit = number % 10\n",
    "    if last_digit == 1:\n",
    "        return f\"{number}st\"\n",
    "    elif last_digit == 2:\n",
    "        return f\"{number}nd\"\n",
    "    elif last_digit == 3:\n",
    "        return f\"{number}rd\"\n",
    "    else:\n",
    "        return f\"{number}th\"\n",
    "\n",
    "def main():\n",
    "    try:\n",
    "        while True:\n",
    "            user_input = int(input(\"Masukkan angka (0 untuk keluar): \"))\n",
    "            \n",
    "            if user_input == 0:\n",
    "                print(\"byee...\")\n",
    "                break\n",
    "            \n",
    "            ordinal_form = convert_to_ordinal(user_input)\n",
    "            print(f\"Angka: {user_input}\")\n",
    "            print(f\"{ordinal_form}\")\n",
    "            \n",
    "    except ValueError:\n",
    "        print(\"Masukkan angka yang valid!\")\n",
    "\n",
    "if __name__ == \"__main__\":\n",
    "    main()\n"
   ]
  },
  {
   "cell_type": "code",
   "execution_count": null,
   "id": "0d8135ea-53e2-4253-a0a7-fa16dfa71cf2",
   "metadata": {},
   "outputs": [],
   "source": []
  }
 ],
 "metadata": {
  "kernelspec": {
   "display_name": "Python 3 (ipykernel)",
   "language": "python",
   "name": "python3"
  },
  "language_info": {
   "codemirror_mode": {
    "name": "ipython",
    "version": 3
   },
   "file_extension": ".py",
   "mimetype": "text/x-python",
   "name": "python",
   "nbconvert_exporter": "python",
   "pygments_lexer": "ipython3",
   "version": "3.12.4"
  }
 },
 "nbformat": 4,
 "nbformat_minor": 5
}
