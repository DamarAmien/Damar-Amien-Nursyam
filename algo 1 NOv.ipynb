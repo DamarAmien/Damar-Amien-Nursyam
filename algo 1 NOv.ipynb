{
 "cells": [
  {
   "cell_type": "code",
   "execution_count": 9,
   "id": "0569c857-72f5-4f2e-a616-1c4a86447422",
   "metadata": {},
   "outputs": [
    {
     "name": "stdin",
     "output_type": "stream",
     "text": [
      "nilai A :  8\n",
      "nilai c :  8\n"
     ]
    },
    {
     "name": "stdout",
     "output_type": "stream",
     "text": [
      "Hasil rata_rata: 8.0\n"
     ]
    }
   ],
   "source": [
    "def hitung_rata_rata(angka1,angka2):\n",
    "    rata_rata = (angka1 + angka2) / 2\n",
    "    return rata_rata\n",
    "angka1 = float(input(\"nilai A : \"))\n",
    "angka2 = float(input(\"nilai c : \"))\n",
    "jumlah= hitung_rata_rata(angka1,angka2)\n",
    "print(\"Hasil rata_rata:\", jumlah)"
   ]
  },
  {
   "cell_type": "code",
   "execution_count": 5,
   "id": "d5b3765a-0d07-4ccc-afec-e5dc53b655d1",
   "metadata": {},
   "outputs": [
    {
     "name": "stdout",
     "output_type": "stream",
     "text": [
      "Masukkan angka di luar bulan (1-12) untuk berhenti\n"
     ]
    },
    {
     "name": "stdin",
     "output_type": "stream",
     "text": [
      "Bulan (1-12):  1\n"
     ]
    },
    {
     "name": "stdout",
     "output_type": "stream",
     "text": [
      "Ada 31 hari.\n"
     ]
    },
    {
     "name": "stdin",
     "output_type": "stream",
     "text": [
      "Bulan (1-12):  2\n",
      "Masukkan tahun:  3\n"
     ]
    },
    {
     "name": "stdout",
     "output_type": "stream",
     "text": [
      "Ada 28 hari.\n"
     ]
    },
    {
     "name": "stdin",
     "output_type": "stream",
     "text": [
      "Bulan (1-12):  4\n"
     ]
    },
    {
     "name": "stdout",
     "output_type": "stream",
     "text": [
      "Ada 30 hari.\n"
     ]
    },
    {
     "name": "stdin",
     "output_type": "stream",
     "text": [
      "Bulan (1-12):  0\n"
     ]
    },
    {
     "name": "stdout",
     "output_type": "stream",
     "text": [
      "Bye Bye\n"
     ]
    }
   ],
   "source": [
    "def input_bulan():\n",
    "    while True:\n",
    "        bulan = input(\"Bulan (1-12): \")\n",
    "        try:\n",
    "            bulan = int(bulan)\n",
    "            if 1 <= bulan <= 12:\n",
    "                return bulan\n",
    "            else:\n",
    "                print(\"Bye Bye\")\n",
    "                return None\n",
    "        except ValueError:\n",
    "            print(\"Input tidak valid, silakan masukkan angka.\")\n",
    "           \n",
    "def input_tahun():\n",
    "    while True:\n",
    "        tahun = input(\"Masukkan tahun: \")\n",
    "        try:\n",
    "            return int(tahun)\n",
    "        except ValueError:\n",
    "            print(\"Input tahun tidak valid, silakan masukkan angka.\")\n",
    "             \n",
    "def hitung_hari(bulan, tahun=None):\n",
    "    if bulan == 2:\n",
    "        if tahun is not None:\n",
    "            if (tahun % 4 == 0 and tahun % 100 != 0) or (tahun % 400 == 0):\n",
    "                return \"Ada 29 hari (tahun kabisat).\"\n",
    "            else:\n",
    "                return \"Ada 28 hari.\"\n",
    "        else:\n",
    "            return \"Ada 28 atau 29 hari, tergantung tahun.\"\n",
    "    elif bulan in [1, 3, 5, 7, 8, 10, 12]:\n",
    "        return \"Ada 31 hari.\"\n",
    "    elif bulan in [4, 6, 9, 11]:\n",
    "        return \"Ada 30 hari.\"\n",
    "\n",
    "def semua():\n",
    "    print(\"Masukkan angka di luar bulan (1-12) untuk berhenti\")\n",
    "    \n",
    "    while True:\n",
    "        bulan = input_bulan()\n",
    "        if bulan is None:\n",
    "            break\n",
    "        if bulan == 2:\n",
    "            tahun = input_tahun()\n",
    "            print(hitung_hari(bulan, tahun))\n",
    "        else:\n",
    "            print(hitung_hari(bulan))\n",
    "\n",
    "semua()"
   ]
  },
  {
   "cell_type": "code",
   "execution_count": null,
   "id": "e8021b7d-5553-4b35-bd74-aa38a9f46d2c",
   "metadata": {},
   "outputs": [],
   "source": []
  }
 ],
 "metadata": {
  "kernelspec": {
   "display_name": "Python 3 (ipykernel)",
   "language": "python",
   "name": "python3"
  },
  "language_info": {
   "codemirror_mode": {
    "name": "ipython",
    "version": 3
   },
   "file_extension": ".py",
   "mimetype": "text/x-python",
   "name": "python",
   "nbconvert_exporter": "python",
   "pygments_lexer": "ipython3",
   "version": "3.12.4"
  }
 },
 "nbformat": 4,
 "nbformat_minor": 5
}
