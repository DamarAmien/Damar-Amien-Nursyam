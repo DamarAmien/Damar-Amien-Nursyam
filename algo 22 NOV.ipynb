{
 "cells": [
  {
   "cell_type": "code",
   "execution_count": 11,
   "id": "a7823702-0b36-4048-96a9-a50600e96468",
   "metadata": {},
   "outputs": [
    {
     "name": "stdin",
     "output_type": "stream",
     "text": [
      "Masukkan Nama-mu:  Damar\n",
      "Masukkan Umur-mu:  18\n",
      "Masukkan Alamat-mu:  Tangerang Selatan\n",
      "Masukkan Email-mu:  damaramien\n",
      "Masukkan Dosen Wali-mu:  Bu Ratna\n"
     ]
    },
    {
     "name": "stdout",
     "output_type": "stream",
     "text": [
      "Nama: Damar\n",
      "Umur: 18\n",
      "Alamat: Tangerang Selatan\n",
      "Email: damaramien\n",
      "Dosen Wali: Bu Ratna\n",
      "\n",
      "Selesai!\n"
     ]
    }
   ],
   "source": [
    "nama = input(\"Masukkan Nama-mu: \")\n",
    "umur = input(\"Masukkan Umur-mu: \")\n",
    "alamat = input(\"Masukkan Alamat-mu: \")\n",
    "email = input(\"Masukkan Email-mu: \")\n",
    "dosen_wali = input(\"Masukkan Dosen Wali-mu: \")\n",
    "\n",
    "with open(\"Biodata.Damar\", \"w\") as f:\n",
    "  f.write(f\"Nama: {nama}\\n\")\n",
    "  f.write(f\"Umur: {umur}\\n\")\n",
    "  f.write(f\"Alamat: {alamat}\\n\")\n",
    "  f.write(f\"Email: {email}\\n\")\n",
    "  f.write(f\"Dosen Wali: {dosen_wali}\\n\")\n",
    "  f.close()\n",
    "  \n",
    "file = open(\"Biodata.Damar\", \"r\")\n",
    "text = file.read()\n",
    "print(text)\n",
    "file.close()\n",
    "\n",
    "print(\"Selesai!\")"
   ]
  },
  {
   "cell_type": "code",
   "execution_count": 2,
   "id": "2aa8d572-df62-4643-a166-a2f98989495b",
   "metadata": {},
   "outputs": [
    {
     "name": "stdout",
     "output_type": "stream",
     "text": [
      "\n",
      "========== Menu File Handling ==========\n",
      "1. Buat File Baru\n",
      "2. Baca File\n",
      "3. Tambah Teks ke File\n",
      "4. Keluar\n",
      "========================================\n"
     ]
    },
    {
     "name": "stdin",
     "output_type": "stream",
     "text": [
      "Pilih menu (1/2/3/4):  1\n",
      "Masukkan nama file:  biodata\n",
      "Masukkan nama Anda:  Damar\n",
      "Masukkan NIM Anda:  065002400037\n",
      "Masukkan tahun angkatan:  2024\n"
     ]
    },
    {
     "name": "stdout",
     "output_type": "stream",
     "text": [
      "\n",
      "File 'biodata' berhasil dibuat!\n",
      "\n",
      "\n",
      "========== Menu File Handling ==========\n",
      "1. Buat File Baru\n",
      "2. Baca File\n",
      "3. Tambah Teks ke File\n",
      "4. Keluar\n",
      "========================================\n"
     ]
    },
    {
     "name": "stdin",
     "output_type": "stream",
     "text": [
      "Pilih menu (1/2/3/4):  2\n",
      "Masukkan nama file:  biodata\n"
     ]
    },
    {
     "name": "stdout",
     "output_type": "stream",
     "text": [
      "\n",
      " Isi File 'biodata' \n",
      "Informasi Pengguna\n",
      "Nama File       : biodata\n",
      "Nama Anda       : Damar\n",
      "NIM Anda        : 065002400037\n",
      "Tahun Angkatan  : 2024\n",
      "\n",
      "\n",
      "\n",
      "========== Menu File Handling ==========\n",
      "1. Buat File Baru\n",
      "2. Baca File\n",
      "3. Tambah Teks ke File\n",
      "4. Keluar\n",
      "========================================\n"
     ]
    },
    {
     "name": "stdin",
     "output_type": "stream",
     "text": [
      "Pilih menu (1/2/3/4):  3\n",
      "Masukkan nama file:  biodata\n",
      "Masukkan nama sahabat:  Akbar\n",
      "Masukkan catatan tambahan:  angkatan 2024\n"
     ]
    },
    {
     "name": "stdout",
     "output_type": "stream",
     "text": [
      "\n",
      "Teks berhasil ditambahkan ke file 'biodata'.\n",
      "\n",
      "\n",
      "========== Menu File Handling ==========\n",
      "1. Buat File Baru\n",
      "2. Baca File\n",
      "3. Tambah Teks ke File\n",
      "4. Keluar\n",
      "========================================\n"
     ]
    },
    {
     "name": "stdin",
     "output_type": "stream",
     "text": [
      "Pilih menu (1/2/3/4):  4\n"
     ]
    },
    {
     "name": "stdout",
     "output_type": "stream",
     "text": [
      "\n",
      "Terima kasih telah menggunakan program ini. Bye Bye! :)\n"
     ]
    }
   ],
   "source": [
    "def create_file():\n",
    "    filename = input(\"Masukkan nama file: \").strip()\n",
    "    name = input(\"Masukkan nama Anda: \").strip()\n",
    "    nim = input(\"Masukkan NIM Anda: \").strip()\n",
    "    year = input(\"Masukkan tahun angkatan: \").strip()\n",
    "\n",
    "    file_content = (\n",
    "        f\"Informasi Pengguna\\n\"\n",
    "        f\"Nama File       : {filename}\\n\"\n",
    "        f\"Nama Anda       : {name}\\n\"\n",
    "        f\"NIM Anda        : {nim}\\n\"\n",
    "        f\"Tahun Angkatan  : {year}\\n\"\n",
    "    )\n",
    "\n",
    "    try:\n",
    "        with open(filename, \"w\") as file:\n",
    "            file.write(file_content)\n",
    "        print(f\"\\nFile '{filename}' berhasil dibuat!\\n\")\n",
    "    except Exception as e:\n",
    "        print(f\"\\nTerjadi kesalahan saat membuat file: {e}\\n\")\n",
    "\n",
    "\n",
    "def read_file():\n",
    "    filename = input(\"Masukkan nama file: \").strip()\n",
    "    try:\n",
    "        with open(filename, \"r\") as file:\n",
    "            content = file.read()\n",
    "            print(f\"\\n Isi File '{filename}' \\n{content}\\n\")\n",
    "    except FileNotFoundError:\n",
    "        print(f\"\\nFile '{filename}' tidak ditemukan.\\n\")\n",
    "    except Exception as e:\n",
    "        print(f\"\\nTerjadi kesalahan saat membaca file: {e}\\n\")\n",
    "\n",
    "\n",
    "def append_to_file():\n",
    "    filename = input(\"Masukkan nama file: \").strip()\n",
    "    name = input(\"Masukkan nama sahabat: \").strip()\n",
    "    note = input(\"Masukkan catatan tambahan: \").strip()\n",
    "\n",
    "    file_content = (\n",
    "        f\"Tambahan Informasi\\n\"\n",
    "        f\"Nama Sahabat   : {name}\\n\"\n",
    "        f\"Catatan        : {note}\\n\"\n",
    "    )\n",
    "\n",
    "    try:\n",
    "        with open(filename, \"a\") as file:\n",
    "            file.write(file_content)\n",
    "        print(f\"\\nTeks berhasil ditambahkan ke file '{filename}'.\\n\")\n",
    "    except Exception as e:\n",
    "        print(f\"\\nTerjadi kesalahan saat menambahkan teks ke file: {e}\\n\")\n",
    "\n",
    "def main():\n",
    "    while True:\n",
    "        print(\"\\n========== Menu File Handling ==========\")\n",
    "        print(\"1. Buat File Baru\")\n",
    "        print(\"2. Baca File\")\n",
    "        print(\"3. Tambah Teks ke File\")\n",
    "        print(\"4. Keluar\")\n",
    "        print(\"========================================\")\n",
    "        \n",
    "        choice = input(\"Pilih menu (1/2/3/4): \").strip()\n",
    "\n",
    "        if choice == \"1\":\n",
    "            create_file()\n",
    "        elif choice == \"2\":\n",
    "            read_file()\n",
    "        elif choice == \"3\":\n",
    "            append_to_file()\n",
    "        elif choice == \"4\":\n",
    "            print(\"\\nTerima kasih telah menggunakan program ini. Bye Bye! :)\")\n",
    "            break\n",
    "        else:\n",
    "            print(\"\\nPilihan tidak valid. Silakan coba lagi.\\n\")\n",
    "\n",
    "main()"
   ]
  },
  {
   "cell_type": "code",
   "execution_count": null,
   "id": "9cc56305-6e1a-40b6-bb95-9ecad23c2165",
   "metadata": {},
   "outputs": [],
   "source": []
  },
  {
   "cell_type": "code",
   "execution_count": null,
   "id": "748cb326-dc94-4a20-b2ec-2958bffd2ce8",
   "metadata": {},
   "outputs": [],
   "source": []
  }
 ],
 "metadata": {
  "kernelspec": {
   "display_name": "Python 3 (ipykernel)",
   "language": "python",
   "name": "python3"
  },
  "language_info": {
   "codemirror_mode": {
    "name": "ipython",
    "version": 3
   },
   "file_extension": ".py",
   "mimetype": "text/x-python",
   "name": "python",
   "nbconvert_exporter": "python",
   "pygments_lexer": "ipython3",
   "version": "3.12.4"
  }
 },
 "nbformat": 4,
 "nbformat_minor": 5
}
