{
 "cells": [
  {
   "cell_type": "code",
   "execution_count": 1,
   "id": "1a95254d-0950-4b20-9908-b56da2978563",
   "metadata": {},
   "outputs": [
    {
     "name": "stdin",
     "output_type": "stream",
     "text": [
      "Masukkan nilai :  A\n"
     ]
    },
    {
     "name": "stdout",
     "output_type": "stream",
     "text": [
      "A = 4.00\n"
     ]
    },
    {
     "name": "stdin",
     "output_type": "stream",
     "text": [
      "Masukkan nilai :  A-\n"
     ]
    },
    {
     "name": "stdout",
     "output_type": "stream",
     "text": [
      "A- = 3.75\n"
     ]
    },
    {
     "name": "stdin",
     "output_type": "stream",
     "text": [
      "Masukkan nilai :  B\n"
     ]
    },
    {
     "name": "stdout",
     "output_type": "stream",
     "text": [
      "B = 3.00\n"
     ]
    },
    {
     "name": "stdin",
     "output_type": "stream",
     "text": [
      "Masukkan nilai :  B+\n"
     ]
    },
    {
     "name": "stdout",
     "output_type": "stream",
     "text": [
      "B+ = 3.50\n"
     ]
    },
    {
     "name": "stdin",
     "output_type": "stream",
     "text": [
      "Masukkan nilai :  B-\n"
     ]
    },
    {
     "name": "stdout",
     "output_type": "stream",
     "text": [
      "B- = 2.75\n"
     ]
    },
    {
     "name": "stdin",
     "output_type": "stream",
     "text": [
      "Masukkan nilai :  C+\n"
     ]
    },
    {
     "name": "stdout",
     "output_type": "stream",
     "text": [
      "C+ = 2.50\n"
     ]
    },
    {
     "name": "stdin",
     "output_type": "stream",
     "text": [
      "Masukkan nilai :  C\n"
     ]
    },
    {
     "name": "stdout",
     "output_type": "stream",
     "text": [
      "C = 2.00\n"
     ]
    },
    {
     "name": "stdin",
     "output_type": "stream",
     "text": [
      "Masukkan nilai :  C-\n"
     ]
    },
    {
     "name": "stdout",
     "output_type": "stream",
     "text": [
      "C- = 1.75\n"
     ]
    },
    {
     "name": "stdin",
     "output_type": "stream",
     "text": [
      "Masukkan nilai :  D\n"
     ]
    },
    {
     "name": "stdout",
     "output_type": "stream",
     "text": [
      "D = 1.50\n"
     ]
    },
    {
     "name": "stdin",
     "output_type": "stream",
     "text": [
      "Masukkan nilai :  E\n"
     ]
    },
    {
     "name": "stdout",
     "output_type": "stream",
     "text": [
      "E = 1.25\n"
     ]
    },
    {
     "name": "stdin",
     "output_type": "stream",
     "text": [
      "Masukkan nilai :  \n"
     ]
    },
    {
     "name": "stdout",
     "output_type": "stream",
     "text": [
      "Rata - rata nilai : 2.6\n"
     ]
    }
   ],
   "source": [
    "total_nilai = 0\n",
    "jumlah_nilai = 0\n",
    "\n",
    "while True:\n",
    "    nilai = input('Masukkan nilai : ')\n",
    "    \n",
    "    if nilai == \"\":\n",
    "        break\n",
    "    nilai = nilai.upper()\n",
    "    \n",
    "    if nilai not in [\"A\", \"A-\", \"B+\", \"B\", \"B-\", \"C+\", \"C\", \"C-\", \"D\", \"E\"]:\n",
    "        print(\"Masukkan nilai dengan benar!\")\n",
    "    \n",
    "    if nilai == \"A\":\n",
    "        print(\"A = 4.00\")\n",
    "        total_nilai += 4.00\n",
    "    elif nilai == \"A-\":\n",
    "        print(\"A- = 3.75\")\n",
    "        total_nilai += 3.75\n",
    "    elif nilai == \"B+\":\n",
    "        print(\"B+ = 3.50\")\n",
    "        total_nilai += 3.50\n",
    "    elif nilai == \"B\":\n",
    "        print(\"B = 3.00\")\n",
    "        total_nilai += 3.00\n",
    "    elif nilai == \"B-\":\n",
    "        print(\"B- = 2.75\")\n",
    "        total_nilai += 2.75\n",
    "    elif nilai == \"C+\":\n",
    "        print(\"C+ = 2.50\")\n",
    "        total_nilai += 2.50\n",
    "    elif nilai == \"C\":\n",
    "        print(\"C = 2.00\")\n",
    "        total_nilai += 2.00\n",
    "    elif nilai == \"C-\":\n",
    "        print(\"C- = 1.75\")\n",
    "        total_nilai += 1.75\n",
    "    elif nilai == \"D\":\n",
    "        print(\"D = 1.50\")\n",
    "        total_nilai += 1.50\n",
    "    elif nilai == \"E\":\n",
    "        print(\"E = 1.25\")\n",
    "        total_nilai += 1.25\n",
    "    else:\n",
    "        print(\"Masukan nilai dengan benar!\")\n",
    "        \n",
    "    jumlah_nilai += 1\n",
    "\n",
    "if jumlah_nilai > 0:\n",
    "    rata_rata = total_nilai / jumlah_nilai\n",
    "    print(f\"Rata - rata nilai : {rata_rata}\")\n",
    "else:\n",
    "    print(\"Tidak ada nilai yang diinput\")"
   ]
  },
  {
   "cell_type": "code",
   "execution_count": 6,
   "id": "40ae7dac-a4bf-4eb1-9a9b-875cf95bc0bd",
   "metadata": {},
   "outputs": [
    {
     "name": "stdin",
     "output_type": "stream",
     "text": [
      "Input Age:  10\n"
     ]
    },
    {
     "name": "stdout",
     "output_type": "stream",
     "text": [
      "Price $14.00\n",
      "total payment =  14.0\n"
     ]
    },
    {
     "name": "stdin",
     "output_type": "stream",
     "text": [
      "Input Age:  2\n"
     ]
    },
    {
     "name": "stdout",
     "output_type": "stream",
     "text": [
      "FREE\n",
      "total payment =  14.0\n"
     ]
    },
    {
     "name": "stdin",
     "output_type": "stream",
     "text": [
      "Input Age:  32\n"
     ]
    },
    {
     "name": "stdout",
     "output_type": "stream",
     "text": [
      "Price $23.00\n",
      "total payment =  37.0\n"
     ]
    },
    {
     "name": "stdin",
     "output_type": "stream",
     "text": [
      "Input Age:  100\n"
     ]
    },
    {
     "name": "stdout",
     "output_type": "stream",
     "text": [
      "Price $18.00\n",
      "total payment =  55.0\n"
     ]
    },
    {
     "name": "stdin",
     "output_type": "stream",
     "text": [
      "Input Age:  \n",
      "Payment =  100\n"
     ]
    },
    {
     "name": "stdout",
     "output_type": "stream",
     "text": [
      "Change =  45.0\n"
     ]
    }
   ],
   "source": [
    "n = 0\n",
    "money = 0\n",
    "people = 0\n",
    "\n",
    "while (n != ''):\n",
    "    n = str(input(\"Input Age: \"))\n",
    "    people += 1\n",
    "    if (n == str('')):\n",
    "        break;\n",
    "    else:\n",
    "        \n",
    "        if (int(n) <= 2):\n",
    "            print('FREE')\n",
    "            money += 0\n",
    "            print(\"total payment = \", money)\n",
    "        elif (3 <= int(n) <= 12):\n",
    "            print(\"Price $14.00\")\n",
    "            money += 14.00\n",
    "            print(\"total payment = \", money)\n",
    "        elif (150 >= int(n) >= 65):\n",
    "            print('Price $18.00')\n",
    "            money += 18.00\n",
    "            print(\"total payment = \", money)\n",
    "        elif (13 <= int(n) <= 64):\n",
    "            print('Price $23.00')\n",
    "            money += 23.00\n",
    "            print(\"total payment = \", money)\n",
    "        else:\n",
    "            people -= 1\n",
    "            print('INVALID')\n",
    "            \n",
    "if(people == 1):\n",
    "    print(\" \")\n",
    "else:\n",
    "    pay = float(input(\"Payment = \"))\n",
    "    chance = pay - money\n",
    "    print('Change = ', chance)"
   ]
  },
  {
   "cell_type": "code",
   "execution_count": null,
   "id": "bc5e16c4-b560-406b-8909-5c3c4ca7e323",
   "metadata": {},
   "outputs": [],
   "source": []
  },
  {
   "cell_type": "code",
   "execution_count": null,
   "id": "05675716-90b4-45ba-8712-e1dec0490a2b",
   "metadata": {},
   "outputs": [],
   "source": []
  }
 ],
 "metadata": {
  "kernelspec": {
   "display_name": "Python 3 (ipykernel)",
   "language": "python",
   "name": "python3"
  },
  "language_info": {
   "codemirror_mode": {
    "name": "ipython",
    "version": 3
   },
   "file_extension": ".py",
   "mimetype": "text/x-python",
   "name": "python",
   "nbconvert_exporter": "python",
   "pygments_lexer": "ipython3",
   "version": "3.12.4"
  }
 },
 "nbformat": 4,
 "nbformat_minor": 5
}
