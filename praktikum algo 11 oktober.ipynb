{
 "cells": [
  {
   "cell_type": "code",
   "execution_count": 2,
   "id": "cf5558be-9cdb-4779-8a0a-79f1df7af15b",
   "metadata": {},
   "outputs": [
    {
     "name": "stdin",
     "output_type": "stream",
     "text": [
      "Masukan angka: 7\n"
     ]
    },
    {
     "name": "stdout",
     "output_type": "stream",
     "text": [
      "7777777\n",
      "666666\n",
      "55555\n",
      "4444\n",
      "333\n",
      "22\n",
      "1\n"
     ]
    }
   ],
   "source": [
    "a = int(input('Masukan angka:'))\n",
    "for i in range(a,0,-1):  \n",
    "    for j in range(i):      \n",
    "        print(i, end='')\n",
    "    print()"
   ]
  },
  {
   "cell_type": "code",
   "execution_count": 10,
   "id": "adee55b1-092a-4c75-9afe-232a80ed75dc",
   "metadata": {},
   "outputs": [
    {
     "name": "stdout",
     "output_type": "stream",
     "text": [
      "Masukkan angka di luar bulan (1-12) untuk berhenti\n"
     ]
    },
    {
     "name": "stdin",
     "output_type": "stream",
     "text": [
      "Bulan (1-12) :  1\n"
     ]
    },
    {
     "name": "stdout",
     "output_type": "stream",
     "text": [
      "Ada 31 hari\n"
     ]
    },
    {
     "name": "stdin",
     "output_type": "stream",
     "text": [
      "Bulan (1-12) :  9\n"
     ]
    },
    {
     "name": "stdout",
     "output_type": "stream",
     "text": [
      "Ada 30 hari\n"
     ]
    },
    {
     "name": "stdin",
     "output_type": "stream",
     "text": [
      "Bulan (1-12) :  2\n",
      "Masukkan tahun:  2023\n"
     ]
    },
    {
     "name": "stdout",
     "output_type": "stream",
     "text": [
      "Ada 28 hari\n"
     ]
    },
    {
     "name": "stdin",
     "output_type": "stream",
     "text": [
      "Bulan (1-12) :  -2\n"
     ]
    },
    {
     "name": "stdout",
     "output_type": "stream",
     "text": [
      "Data invalid, tidaks ada.\n"
     ]
    }
   ],
   "source": [
    "print(\"Masukkan angka di luar bulan (1-12) untuk berhenti\")\n",
    "\n",
    "while True: \n",
    "    bulan = input(\"Bulan (1-12) : \")\n",
    "\n",
    "    try:\n",
    "        bulan = int(bulan)\n",
    "    except ValueError:\n",
    "        print(\"Input tidak valid, silakan masukkan angka.\")\n",
    "        continue\n",
    "    \n",
    "    if bulan < 1 or bulan > 12:\n",
    "        print(\"Data invalid, tidaks ada.\")\n",
    "        break\n",
    "    \n",
    "    if bulan == 2:\n",
    "        tahun = input(\"Masukkan tahun: \")\n",
    "        try:\n",
    "            tahun = int(tahun)\n",
    "            if (tahun % 4 == 0 and tahun % 100 != 0) or (tahun % 400 == 0):\n",
    "                print(\"Ada 29 hari (tahun kabisat)\")\n",
    "            else:\n",
    "                print(\"Ada 28 hari\")\n",
    "        except ValueError:\n",
    "            print(\"Input tahun tidak valid.\")\n",
    "            continue\n",
    "    elif bulan in [1, 3, 5, 7, 8, 10, 12]:\n",
    "        print(\"Ada 31 hari\")\n",
    "    elif bulan in [4, 6, 9, 11]:\n",
    "        print(\"Ada 30 hari\")"
   ]
  },
  {
   "cell_type": "code",
   "execution_count": null,
   "id": "2505173f-9374-476a-8f9a-2d3d631da4c6",
   "metadata": {},
   "outputs": [],
   "source": []
  }
 ],
 "metadata": {
  "kernelspec": {
   "display_name": "Python 3 (ipykernel)",
   "language": "python",
   "name": "python3"
  },
  "language_info": {
   "codemirror_mode": {
    "name": "ipython",
    "version": 3
   },
   "file_extension": ".py",
   "mimetype": "text/x-python",
   "name": "python",
   "nbconvert_exporter": "python",
   "pygments_lexer": "ipython3",
   "version": "3.12.4"
  }
 },
 "nbformat": 4,
 "nbformat_minor": 5
}
