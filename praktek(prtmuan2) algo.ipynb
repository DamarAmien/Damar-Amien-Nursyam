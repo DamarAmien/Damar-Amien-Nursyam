{
 "cells": [
  {
   "cell_type": "code",
   "execution_count": 7,
   "id": "d31166a6-8fad-4d38-9af4-b5ed3f473198",
   "metadata": {},
   "outputs": [
    {
     "name": "stdin",
     "output_type": "stream",
     "text": [
      " 10\n",
      " 12\n"
     ]
    },
    {
     "name": "stdout",
     "output_type": "stream",
     "text": [
      "22\n",
      "-2\n",
      "120\n",
      "10\n",
      "0.8333333333333334\n",
      "1000000000000\n"
     ]
    }
   ],
   "source": [
    "import math\n",
    "a= int(input())\n",
    "b= int(input())\n",
    "print (a+b)\n",
    "print (a-b)\n",
    "print (a*b)\n",
    "print (a%b)\n",
    "print (a/b)\n",
    "math.log(a)\n",
    "print(a**b)"
   ]
  },
  {
   "cell_type": "code",
   "execution_count": 3,
   "id": "347df2ef-8571-41e4-a1fe-e54f9c264484",
   "metadata": {},
   "outputs": [
    {
     "name": "stdin",
     "output_type": "stream",
     "text": [
      "Masukkan bujur kota 1:  2534\n",
      "Masukkan lintang kota 1:  15\n",
      "Masukkan bujur kota 2:  26\n",
      "Masukkan lintang kota 2:  45\n"
     ]
    },
    {
     "name": "stdout",
     "output_type": "stream",
     "text": [
      "Jarak antara titik 1 dan titik 2 adalah: 6558.898526509789 km\n"
     ]
    }
   ],
   "source": [
    "import math\n",
    "\n",
    "def haversine(lat1, lon1, lat2, lon2):\n",
    "    lat1_rad = math.radians(lat1)\n",
    "    lon1_rad = math.radians(lon1)\n",
    "    lat2_rad = math.radians(lat2)\n",
    "    lon2_rad = math.radians(lon2)\n",
    "\n",
    "    delta_lat = lat2_rad - lat1_rad\n",
    "    delta_lon = lon2_rad - lon1_rad\n",
    "\n",
    "    a = math.sin(delta_lat / 2)*2 + math.cos(lat1_rad) * math.cos(lat2_rad) * math.sin(delta_lon / 2)*2\n",
    "    c = 2 * math.atan2(math.sqrt(a), math.sqrt(1 - a))\n",
    "\n",
    "    R = 6371.0\n",
    "\n",
    "    distance = R * c\n",
    "    return distance\n",
    "\n",
    "lat1 = float(input(\"Masukkan bujur kota 1: \"))  \n",
    "lon1 = float(input(\"Masukkan lintang kota 1: \")) \n",
    "lat2 = float(input(\"Masukkan bujur kota 2: \"))\n",
    "lon2 = float(input(\"Masukkan lintang kota 2: \")) \n",
    "\n",
    "jarak = haversine(lat1, lon1, lat2, lon2)\n",
    "\n",
    "# Menampilkan hasil \n",
    "print(\"Jarak antara titik 1 dan titik 2 adalah:\", jarak, \"km\")\n"
   ]
  },
  {
   "cell_type": "code",
   "execution_count": null,
   "id": "d0ac7d56-fb9d-4f30-8023-bcf1d6b1f5a9",
   "metadata": {},
   "outputs": [],
   "source": []
  }
 ],
 "metadata": {
  "kernelspec": {
   "display_name": "Python 3 (ipykernel)",
   "language": "python",
   "name": "python3"
  },
  "language_info": {
   "codemirror_mode": {
    "name": "ipython",
    "version": 3
   },
   "file_extension": ".py",
   "mimetype": "text/x-python",
   "name": "python",
   "nbconvert_exporter": "python",
   "pygments_lexer": "ipython3",
   "version": "3.12.4"
  }
 },
 "nbformat": 4,
 "nbformat_minor": 5
}
