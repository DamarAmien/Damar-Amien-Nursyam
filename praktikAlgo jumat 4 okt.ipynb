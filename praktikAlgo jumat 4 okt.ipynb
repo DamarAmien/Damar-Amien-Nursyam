{
 "cells": [
  {
   "cell_type": "code",
   "execution_count": 10,
   "id": "8a33936a-cca0-449f-bf80-1740ad97d2f6",
   "metadata": {},
   "outputs": [
    {
     "name": "stdin",
     "output_type": "stream",
     "text": [
      "sisi a :  5\n",
      "sisi b :  5\n",
      "sisi c :  8\n"
     ]
    },
    {
     "name": "stdout",
     "output_type": "stream",
     "text": [
      "segitiga sama kaki\n"
     ]
    }
   ],
   "source": [
    "a = float(input(\"sisi a : \"))\n",
    "b = float(input(\"sisi b : \"))\n",
    "c = float(input(\"sisi c : \"))\n",
    "\n",
    "if a==b==c:\n",
    "    print(\"segitiga sama sisi\")\n",
    "elif a==b or a==c or b==c:\n",
    "    print(\"segitiga sama kaki\")\n",
    "elif a**2 + b2 + c2 or b2 + c2 == a**2:\n",
    "    print(\"segitiga siku siku\")\n",
    "elif a+b <= c or a+c <= b or c+b <= a:\n",
    "    print(\"segitiga ga valid\")\n",
    "else:\n",
    "    print(\"segitiga sembarang\")"
   ]
  },
  {
   "cell_type": "code",
   "execution_count": 2,
   "id": "e67bf7a8-a338-4168-acd4-76b8e062a314",
   "metadata": {},
   "outputs": [
    {
     "name": "stdin",
     "output_type": "stream",
     "text": [
      "Nilai A:  1\n",
      "Nilai B:  7\n",
      "Nilai C:  8\n"
     ]
    },
    {
     "name": "stdout",
     "output_type": "stream",
     "text": [
      "persamaan kuadrat: 1 x2 + 7 x + 8\n",
      "diskriminan: 17\n",
      "merupakan akar berbeda\n",
      "x1 = -1.4384471871911697\n",
      "x2 = -5.561552812808831\n"
     ]
    }
   ],
   "source": [
    "import math\n",
    "a = int(input(\"Nilai A: \"))\n",
    "b = int(input(\"Nilai B: \"))\n",
    "c = int(input(\"Nilai C: \"))\n",
    "diskriminan = (b**2) - (4*a*c)\n",
    "print(\"persamaan kuadrat:\", a, \"x2 +\", b, \"x +\", c)\n",
    "print(\"diskriminan:\", diskriminan)\n",
    "if diskriminan == 0:\n",
    "    x = -b / (2*a)\n",
    "    print(\"merupakan akar kembar\")\n",
    "    print(\"akar =\", x)\n",
    "elif diskriminan > 0:\n",
    "    x1 = (-b + math.sqrt(diskriminan)) / (2*a)\n",
    "    x2 = (-b - math.sqrt(diskriminan)) / (2*a)\n",
    "    print(\"merupakan akar berbeda\")\n",
    "    print(\"x1 =\", x1)\n",
    "    print(\"x2 =\", x2)"
   ]
  },
  {
   "cell_type": "code",
   "execution_count": null,
   "id": "d56c187e-91f2-4fc4-bdf9-77012a3cb65d",
   "metadata": {},
   "outputs": [],
   "source": []
  },
  {
   "cell_type": "code",
   "execution_count": null,
   "id": "78ae936d-de48-4714-851b-8b83f8086427",
   "metadata": {},
   "outputs": [],
   "source": []
  }
 ],
 "metadata": {
  "kernelspec": {
   "display_name": "Python 3 (ipykernel)",
   "language": "python",
   "name": "python3"
  },
  "language_info": {
   "codemirror_mode": {
    "name": "ipython",
    "version": 3
   },
   "file_extension": ".py",
   "mimetype": "text/x-python",
   "name": "python",
   "nbconvert_exporter": "python",
   "pygments_lexer": "ipython3",
   "version": "3.12.4"
  }
 },
 "nbformat": 4,
 "nbformat_minor": 5
}
