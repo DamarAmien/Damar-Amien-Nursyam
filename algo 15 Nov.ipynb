{
 "cells": [
  {
   "cell_type": "code",
   "execution_count": 1,
   "id": "3452c385-6bb6-42f2-badd-7a895304eda0",
   "metadata": {},
   "outputs": [
    {
     "name": "stdin",
     "output_type": "stream",
     "text": [
      "Jumlah angka:  5\n",
      "masukkan angka ke5  1\n",
      "masukkan angka ke4  2\n",
      "masukkan angka ke3  3\n",
      "masukkan angka ke2  4\n",
      "masukkan angka ke1  5\n"
     ]
    },
    {
     "name": "stdout",
     "output_type": "stream",
     "text": [
      "hasil: 15\n"
     ]
    }
   ],
   "source": [
    "def hitung_jumlah(n):\n",
    "    if n <= 0:\n",
    "        return 0\n",
    "    else:\n",
    "        angka = int(input(f\"masukkan angka ke{n} \"))\n",
    "        return angka + hitung_jumlah(n - 1)\n",
    "\n",
    "jumlah_angka = int(input(\"Jumlah angka: \"))\n",
    "if jumlah_angka > 0:\n",
    "    hasil = hitung_jumlah(jumlah_angka)\n",
    "    print(f\"hasil: {hasil}\")\n",
    "else:\n",
    "    print(\"hasil: 0\")"
   ]
  },
  {
   "cell_type": "code",
   "execution_count": 15,
   "id": "0e1d866e-52ac-46f0-8b09-deda5075c0d5",
   "metadata": {},
   "outputs": [
    {
     "name": "stdin",
     "output_type": "stream",
     "text": [
      "Masukkan bilangan:  2\n",
      "Masukkan pangkat:  4\n"
     ]
    },
    {
     "name": "stdout",
     "output_type": "stream",
     "text": [
      "2 dipangkatkan 4 adalah: 16\n"
     ]
    }
   ],
   "source": [
    "def pangkat(bilangan, p):\n",
    "    if p == 0:\n",
    "        return 1\n",
    "    \n",
    "    if p < 0:\n",
    "        return 1 / (bilangan * pangkat(bilangan, abs(p) - 1))\n",
    "    return bilangan * pangkat(bilangan, p - 1)\n",
    "\n",
    "bilangan = int(input(\"Masukkan bilangan: \"))\n",
    "pangkat_input = int(input(\"Masukkan pangkat: \"))\n",
    "\n",
    "hasil = pangkat(bilangan, pangkat_input)\n",
    "print(f\"{bilangan} dipangkatkan {pangkat_input} adalah: {hasil}\")"
   ]
  },
  {
   "cell_type": "code",
   "execution_count": null,
   "id": "c47bad02-a6f5-4ea8-99e4-5eefa8df22ff",
   "metadata": {},
   "outputs": [
    {
     "name": "stdin",
     "output_type": "stream",
     "text": [
      "Angka:  2\n",
      "Pangkat:  4\n"
     ]
    },
    {
     "name": "stdout",
     "output_type": "stream",
     "text": [
      "16.0\n"
     ]
    },
    {
     "name": "stdin",
     "output_type": "stream",
     "text": [
      "Angka:  2\n",
      "Pangkat:  -4\n"
     ]
    },
    {
     "name": "stdout",
     "output_type": "stream",
     "text": [
      "0.0625\n"
     ]
    }
   ],
   "source": [
    "def power(a, n):\n",
    "    # Jika pangkatnya 0, hasilnya 1\n",
    "    if n == 0:\n",
    "        return 1\n",
    "    # Jika pangkatnya positif\n",
    "    elif n > 0:\n",
    "        return a * power(a, n - 1)\n",
    "    # Jika pangkatnya negatif\n",
    "    else:\n",
    "        return 1 / power(a, -n)\n",
    "\n",
    "while True:\n",
    "    try:\n",
    "        angka = float(input(\"Angka: \"))\n",
    "        pangkat = int(input(\"Pangkat: \"))\n",
    "        hasil = power(angka, pangkat)\n",
    "        print(hasil)\n",
    "    except ValueError:\n",
    "        print(\"byee\")\n",
    "        break"
   ]
  },
  {
   "cell_type": "code",
   "execution_count": null,
   "id": "196c128c-bddd-4fb2-be4a-f0d11f104032",
   "metadata": {},
   "outputs": [],
   "source": []
  },
  {
   "cell_type": "code",
   "execution_count": null,
   "id": "bb7b7185-857b-4b48-8125-093e8d9ec7ed",
   "metadata": {},
   "outputs": [],
   "source": []
  },
  {
   "cell_type": "code",
   "execution_count": null,
   "id": "8e32c287-3dad-4dc2-a9fd-5a8e12ed3623",
   "metadata": {},
   "outputs": [],
   "source": []
  }
 ],
 "metadata": {
  "kernelspec": {
   "display_name": "Python 3 (ipykernel)",
   "language": "python",
   "name": "python3"
  },
  "language_info": {
   "codemirror_mode": {
    "name": "ipython",
    "version": 3
   },
   "file_extension": ".py",
   "mimetype": "text/x-python",
   "name": "python",
   "nbconvert_exporter": "python",
   "pygments_lexer": "ipython3",
   "version": "3.12.4"
  }
 },
 "nbformat": 4,
 "nbformat_minor": 5
}
