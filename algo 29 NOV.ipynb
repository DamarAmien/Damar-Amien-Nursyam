{
 "cells": [
  {
   "cell_type": "code",
   "execution_count": 3,
   "id": "a28d5f2d-1e1a-473a-9be1-23a9ed10a080",
   "metadata": {},
   "outputs": [
    {
     "name": "stdin",
     "output_type": "stream",
     "text": [
      "angka yang di cari:  3\n"
     ]
    },
    {
     "name": "stdout",
     "output_type": "stream",
     "text": [
      "sebelum bubble short [65, 22, 34, 35, 41, 5, 15, 31, 9, 47, 10]\n",
      "hasil bubble short [5, 9, 10, 15, 22, 31, 34, 35, 41, 47, 65]\n",
      "tidak ada\n"
     ]
    }
   ],
   "source": [
    "data = [65, 22, 34, 35, 41, 5, 15, 31, 9, 47, 10]\n",
    "angka = int(input('angka yang di cari: '))\n",
    "print ('sebelum bubble short', data)\n",
    "\n",
    "i=2\n",
    "while(i>0):\n",
    "    i=0\n",
    "    for j in range (10):\n",
    "        if data[j]> data[j+1]:\n",
    "            temp= data[j]\n",
    "            data[j]=data[j+1]\n",
    "            data[j+1]=temp\n",
    "            i=i+1\n",
    "print('hasil bubble short', data)\n",
    "\n",
    "a=0\n",
    "b=11\n",
    "while(a<=b):\n",
    "    j=(b+a)//2\n",
    "    if j>10 or j<1:\n",
    "        print('tidak ada')\n",
    "        a=100\n",
    "\n",
    "    elif data[j]== angka:\n",
    "        print('elemen ditentukan di urutan ke-', j+1)\n",
    "        a=100\n",
    "    elif data[j]>angka:\n",
    "        b=j-1\n",
    "    elif data[j]<angka:\n",
    "        a=j+1"
   ]
  },
  {
   "cell_type": "code",
   "execution_count": 7,
   "id": "f19238aa-2a9b-451b-a943-a2e1c7e209ac",
   "metadata": {},
   "outputs": [
    {
     "name": "stdin",
     "output_type": "stream",
     "text": [
      "Masukkan angka yang dicari:  2\n"
     ]
    },
    {
     "name": "stdout",
     "output_type": "stream",
     "text": [
      "Data sebelum diurutkan: [87, 56, 34, 23, 89, 15, 2, 200, 28, 31]\n",
      "Data setelah diurutkan: [2, 15, 23, 28, 31, 34, 56, 87, 89, 200]\n",
      "Angka ditemukan pada urutan ke-1\n"
     ]
    }
   ],
   "source": [
    "def sort_data(data, n=None): #--- ini rekursifffff\n",
    "    if n is None:\n",
    "        n = len(data)\n",
    "    if n == 1:\n",
    "        return\n",
    "    for i in range(n - 1):\n",
    "        if data[i] > data[i + 1]:\n",
    "            data[i], data[i + 1] = data[i + 1], data[i]\n",
    "    sort_data(data, n - 1)\n",
    "\n",
    "def search_data(data, target, start, end): #--- ini rekursif juga\n",
    "    if start > end:\n",
    "        return -1\n",
    "    mid = (start + end) // 2\n",
    "    if data[mid] == target:\n",
    "        return mid\n",
    "    elif data[mid] > target:\n",
    "        return search_data(data, target, start, mid - 1)\n",
    "    else:\n",
    "        return search_data(data, target, mid + 1, end)\n",
    "\n",
    "data = [87, 56, 34, 23, 89, 15, 2, 200, 28, 31]\n",
    "target = int(input(\"Masukkan angka yang dicari: \"))\n",
    "print(\"Data sebelum diurutkan:\", data)\n",
    "\n",
    "sort_data(data)\n",
    "print(\"Data setelah diurutkan:\", data)\n",
    "\n",
    "result = search_data(data, target, 0, len(data) - 1)\n",
    "if result != -1:\n",
    "    print(f\"Angka ditemukan pada urutan ke-{result + 1}\")\n",
    "else:\n",
    "    print(\"Angka tidak ditemukan.\")\n",
    "    \n",
    "    "
   ]
  },
  {
   "cell_type": "code",
   "execution_count": null,
   "id": "bb3dae63-a842-401e-9259-4d100e7f69d9",
   "metadata": {},
   "outputs": [],
   "source": []
  }
 ],
 "metadata": {
  "kernelspec": {
   "display_name": "Python 3 (ipykernel)",
   "language": "python",
   "name": "python3"
  },
  "language_info": {
   "codemirror_mode": {
    "name": "ipython",
    "version": 3
   },
   "file_extension": ".py",
   "mimetype": "text/x-python",
   "name": "python",
   "nbconvert_exporter": "python",
   "pygments_lexer": "ipython3",
   "version": "3.12.4"
  }
 },
 "nbformat": 4,
 "nbformat_minor": 5
}
