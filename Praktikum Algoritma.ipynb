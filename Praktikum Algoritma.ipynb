{
 "cells": [
  {
   "cell_type": "code",
   "execution_count": 1,
   "id": "2def61d8-8b49-4da7-beae-02f7bd1d2a18",
   "metadata": {},
   "outputs": [
    {
     "name": "stdin",
     "output_type": "stream",
     "text": [
      "nama kamu:  damar\n"
     ]
    },
    {
     "name": "stdout",
     "output_type": "stream",
     "text": [
      "hallo damar\n"
     ]
    }
   ],
   "source": [
    "nama = input(\"nama kamu: \")\n",
    "print(\"hallo \"+nama)"
   ]
  },
  {
   "cell_type": "code",
   "execution_count": 3,
   "id": "2efaf97e-23f7-4bef-a306-7457b88e64f6",
   "metadata": {},
   "outputs": [
    {
     "name": "stdin",
     "output_type": "stream",
     "text": [
      "darimana kamu:  Tangerang Selatan\n"
     ]
    },
    {
     "name": "stdout",
     "output_type": "stream",
     "text": [
      "ow dari Tangerang Selatan\n"
     ]
    }
   ],
   "source": [
    "alamat = input(\"darimana kamu: \")\n",
    "print(\"waw dari \"+alamat)"
   ]
  },
  {
   "cell_type": "code",
   "execution_count": 5,
   "id": "6cfc47f7-10a4-4253-8338-df8edab5d709",
   "metadata": {},
   "outputs": [
    {
     "name": "stdin",
     "output_type": "stream",
     "text": [
      "sekolah kamu:  SMA YADIKA 3\n"
     ]
    },
    {
     "name": "stdout",
     "output_type": "stream",
     "text": [
      "bagus itu sekolahnya SMA YADIKA 3\n"
     ]
    }
   ],
   "source": [
    "sekolah = input(\"sekolah kamu: \")\n",
    "print(\"bagus itu sekolahnya \"+sekolah)"
   ]
  },
  {
   "cell_type": "code",
   "execution_count": 7,
   "id": "3c84c595-d9b4-4447-a3cb-9d7edd8f0508",
   "metadata": {},
   "outputs": [
    {
     "name": "stdin",
     "output_type": "stream",
     "text": [
      "nama kamu:  sjh\n"
     ]
    },
    {
     "name": "stdout",
     "output_type": "stream",
     "text": [
      "hallo sjh\n"
     ]
    },
    {
     "name": "stdin",
     "output_type": "stream",
     "text": [
      "darimana kamu:  jsk\n"
     ]
    },
    {
     "name": "stdout",
     "output_type": "stream",
     "text": [
      "waw dari jsk\n"
     ]
    },
    {
     "name": "stdin",
     "output_type": "stream",
     "text": [
      "sekolah kamu:  ajk\n"
     ]
    },
    {
     "name": "stdout",
     "output_type": "stream",
     "text": [
      "bagus itu sekolahnya ajk\n"
     ]
    }
   ],
   "source": [
    "nama = input(\"nama kamu: \")\n",
    "print(\"hallo \"+nama)\n",
    "alamat = input(\"darimana kamu: \")\n",
    "print(\"waw dari \"+alamat)\n",
    "sekolah = input(\"sekolah kamu: \")\n",
    "print(\"bagus itu sekolahnya \"+sekolah)\n"
   ]
  },
  {
   "cell_type": "code",
   "execution_count": 11,
   "id": "70e17090-6484-4afa-8b61-e263fb2df320",
   "metadata": {},
   "outputs": [
    {
     "name": "stdin",
     "output_type": "stream",
     "text": [
      "nama kamu:  123\n",
      "darimana kamu:  HJG'\n",
      "sekolah kamu:  HHU\n"
     ]
    },
    {
     "name": "stdout",
     "output_type": "stream",
     "text": [
      "hallo 123\n",
      "waw dari HJG'\n",
      "bagus itu sekolahnya HHU\n"
     ]
    }
   ],
   "source": [
    "nama = input(\"nama kamu: \")\n",
    "alamat = input(\"darimana kamu: \")\n",
    "sekolah = input(\"sekolah kamu: \")\n",
    "print(\"hallo \"+nama)\n",
    "print(\"waw dari \"+alamat)\n",
    "print(\"bagus itu sekolahnya \"+sekolah)"
   ]
  },
  {
   "cell_type": "code",
   "execution_count": null,
   "id": "ec85c62d-d174-45fe-bf9c-02f6974e7110",
   "metadata": {},
   "outputs": [],
   "source": []
  }
 ],
 "metadata": {
  "kernelspec": {
   "display_name": "Python 3 (ipykernel)",
   "language": "python",
   "name": "python3"
  },
  "language_info": {
   "codemirror_mode": {
    "name": "ipython",
    "version": 3
   },
   "file_extension": ".py",
   "mimetype": "text/x-python",
   "name": "python",
   "nbconvert_exporter": "python",
   "pygments_lexer": "ipython3",
   "version": "3.12.4"
  }
 },
 "nbformat": 4,
 "nbformat_minor": 5
}
